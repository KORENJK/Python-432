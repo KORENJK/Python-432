{
  "nbformat": 4,
  "nbformat_minor": 0,
  "metadata": {
    "colab": {
      "provenance": [],
      "authorship_tag": "ABX9TyO4x4escGPPHMFfex/1oOgt",
      "include_colab_link": true
    },
    "kernelspec": {
      "name": "python3",
      "display_name": "Python 3"
    },
    "language_info": {
      "name": "python"
    }
  },
  "cells": [
    {
      "cell_type": "markdown",
      "metadata": {
        "id": "view-in-github",
        "colab_type": "text"
      },
      "source": [
        "<a href=\"https://colab.research.google.com/github/MiguelARmz/Python-432/blob/main/MARM_ACTV2.ipynb\" target=\"_parent\"><img src=\"https://colab.research.google.com/assets/colab-badge.svg\" alt=\"Open In Colab\"/></a>"
      ]
    },
    {
      "cell_type": "markdown",
      "source": [],
      "metadata": {
        "id": "bzwa9Fn4kbJs"
      }
    },
    {
      "cell_type": "markdown",
      "source": [
        "#Actividad 2\n",
        "\n",
        "Nombre: Miguel Angel Ramirez Monjaraz\n",
        "\n",
        "Grupo: 432-computacion\n",
        "\n",
        "Fecha:27/08/2023"
      ],
      "metadata": {
        "id": "3fpuDSZGagml"
      }
    },
    {
      "cell_type": "markdown",
      "source": [
        "1.- Programa en Python que lea 2 números enteros, usar una condición y analizar los dos números y desplegar cual de los números es el mayor. 1"
      ],
      "metadata": {
        "id": "GjAInW6UfvYF"
      }
    },
    {
      "cell_type": "code",
      "source": [
        "print(\"Porfavor introduzca los dos números \")\n",
        "num1 = int(input(\"Dame el numero 1 \"))\n",
        "num2 = int(input(\"Dame el numero 2 \"))\n",
        "\n",
        "if num1 > num2:\n",
        "    print(f\"El número mayor es {num1}\")\n",
        "if num2 > num1:\n",
        "    print(f\"El número mayor es {num2}\")"
      ],
      "metadata": {
        "id": "GfhJ366hc1dt",
        "colab": {
          "base_uri": "https://localhost:8080/",
          "height": 0
        },
        "outputId": "2e5f9509-38fa-4a78-e589-e4d9d7ad5e6e"
      },
      "execution_count": 1,
      "outputs": [
        {
          "output_type": "stream",
          "name": "stdout",
          "text": [
            "Porfavor introduzca los dos números \n",
            "Dame el numero 1 8\n",
            "Dame el numero 2 3\n",
            "El número mayor es 8\n"
          ]
        }
      ]
    },
    {
      "cell_type": "markdown",
      "source": [
        "2.-  Programa que lea 4 calificaciones de un alumno, calcular y desplegar el promedio acompañado de la leyenda \"APROBADO\" o \"REPROBADO\""
      ],
      "metadata": {
        "id": "vOfc0jNKf01d"
      }
    },
    {
      "cell_type": "code",
      "source": [
        "materias = 4\n",
        "i=1\n",
        "suma=0\n",
        "while(i<=materias):\n",
        "  print(\"Cual es la calificacion numero \",i)\n",
        "  calif=float(input())\n",
        "  suma=suma+calif\n",
        "  i+=1\n",
        "promedio=suma/materias\n",
        "\n",
        "if promedio >= 60:\n",
        "    print(f\"APROBADO, tu promedio es de {promedio}\")\n",
        "if promedio < 60:\n",
        "    print(f\"REPROBADO, tu promedio es de {promedio}\")"
      ],
      "metadata": {
        "id": "uVxquWmqiwSt",
        "colab": {
          "base_uri": "https://localhost:8080/",
          "height": 0
        },
        "outputId": "0fea8490-2155-44a6-92d4-5d6ecd46e7b3"
      },
      "execution_count": 2,
      "outputs": [
        {
          "output_type": "stream",
          "name": "stdout",
          "text": [
            "Cual es la calificacion numero  1\n",
            "98\n",
            "Cual es la calificacion numero  2\n",
            "93\n",
            "Cual es la calificacion numero  3\n",
            "60\n",
            "Cual es la calificacion numero  4\n",
            "70\n",
            "APROBADO, tu promedio es de 80.25\n"
          ]
        }
      ]
    },
    {
      "cell_type": "markdown",
      "source": [
        "3.- Programa en PythonAlgoritmo que a través de opciones (1.- HOMBRE 2.- MUJER ) preguntar al usuario cual es su sexo y desplegar la leyenda “HOMBRE ”, “MUJER”"
      ],
      "metadata": {
        "id": "npXWT_akgJ6P"
      }
    },
    {
      "cell_type": "code",
      "source": [
        "print(\"Elige que generó eres presiona el número que se indica\")\n",
        "print(\"1-Hombre\")\n",
        "print(\"2- Mujer\")\n",
        "genero = int(input(\"Elige el número según tu generó\"))\n",
        "if genero == 1:\n",
        "    print(\"Eres hombre\")\n",
        "if genero == 2:\n",
        "    print(\"Eres mujer\")\n",
        "if genero != 1 and genero != 2:\n",
        "    print(\"ERA 1 O 2,APRENDE A LEER \")"
      ],
      "metadata": {
        "id": "ReMPZc7BdXgw",
        "colab": {
          "base_uri": "https://localhost:8080/",
          "height": 0
        },
        "outputId": "948f3c20-0c16-4145-b2d3-2b7da2fbf0c0"
      },
      "execution_count": 3,
      "outputs": [
        {
          "output_type": "stream",
          "name": "stdout",
          "text": [
            "Elige que generó eres presiona el número que se indica\n",
            "1-Hombre\n",
            "2- Mujer\n",
            "Elige el número según tu generó1\n",
            "Eres hombre\n"
          ]
        }
      ]
    },
    {
      "cell_type": "markdown",
      "source": [
        "4.- Programa en Python que lea un número entero, y desplegar si el número es “PAR” o “IMPAR”"
      ],
      "metadata": {
        "id": "B_LrY-hDRjeV"
      }
    },
    {
      "cell_type": "code",
      "source": [
        "num = int(input(\"Elige un número \"))\n",
        "if num%2 == 0:\n",
        "    print(\"El número es par\")\n",
        "if num%2 != 0:\n",
        "    print(\"El número es impar\")"
      ],
      "metadata": {
        "id": "-lKkzpZPRlU7",
        "colab": {
          "base_uri": "https://localhost:8080/",
          "height": 0
        },
        "outputId": "2ff46c17-a14f-4643-8522-0f2655a507bd"
      },
      "execution_count": 4,
      "outputs": [
        {
          "output_type": "stream",
          "name": "stdout",
          "text": [
            "Elige un número 6\n",
            "El número es par\n"
          ]
        }
      ]
    },
    {
      "cell_type": "markdown",
      "source": [
        "5.- Programa en Python que lea 2 números enteros, usar una condición y analizar los dos números y desplegar cual de los números es el mayor."
      ],
      "metadata": {
        "id": "c_797IneSQi4"
      }
    },
    {
      "cell_type": "code",
      "source": [
        "num1 = int(input(\"Digite el número 1 \"))\n",
        "num2 = int(input(\"Digite el número 2 \"))\n",
        "if num1 > num2:\n",
        "    print(f\"El número mayor es {num1}\")\n",
        "else:\n",
        "    print(f\"El número mayor es {num2}\")"
      ],
      "metadata": {
        "id": "H3mQlu-aSS5c",
        "colab": {
          "base_uri": "https://localhost:8080/",
          "height": 0
        },
        "outputId": "46929829-0d27-4807-fa0f-3f3052a4ddfb"
      },
      "execution_count": 6,
      "outputs": [
        {
          "output_type": "stream",
          "name": "stdout",
          "text": [
            "Digite el número 1 8\n",
            "Digite el número 2 3\n",
            "El número mayor es 8\n"
          ]
        }
      ]
    },
    {
      "cell_type": "markdown",
      "source": [
        "\n",
        "6.- Programa en Python que lea 4 calificaciones de un alumno, calcular y desplegar el promedio acompañado de la leyenda APROBADO o REPROBADO"
      ],
      "metadata": {
        "id": "-zDDBvSDTdi6"
      }
    },
    {
      "cell_type": "code",
      "source": [
        "materias = 4\n",
        "i=1\n",
        "suma=0\n",
        "while(i<=materias):\n",
        "  print(\"Cual es la calificacion numero \",i)\n",
        "  calif=float(input())\n",
        "  suma=suma+calif\n",
        "  i+=1\n",
        "promedio=suma/materias\n",
        "\n",
        "if promedio >= 60:\n",
        "    print(f\"APROBADO, tu promedio es de {promedio}\")\n",
        "else:\n",
        "    print(f\"REPROBADO, tu promedio es de {promedio}\")"
      ],
      "metadata": {
        "id": "rL5glRiETTet",
        "colab": {
          "base_uri": "https://localhost:8080/",
          "height": 0
        },
        "outputId": "0cfc4bee-6ea7-4f9c-8102-00da50bcb806"
      },
      "execution_count": 8,
      "outputs": [
        {
          "output_type": "stream",
          "name": "stdout",
          "text": [
            "Cual es la calificacion numero  1\n",
            "85\n",
            "Cual es la calificacion numero  2\n",
            "88\n",
            "Cual es la calificacion numero  3\n",
            "91\n",
            "Cual es la calificacion numero  4\n",
            "77\n",
            "APROBADO, tu promedio es de 85.25\n"
          ]
        }
      ]
    },
    {
      "cell_type": "markdown",
      "source": [
        "7.- Programa en Python que a través de opciones (1.- HOMBRE 2.- MUJER ) preguntar al usuario cual es su sexo y desplegar la leyenda “HOMBRE ”, “MUJER”"
      ],
      "metadata": {
        "id": "KhMAerySTlUe"
      }
    },
    {
      "cell_type": "code",
      "source": [
        "print(\"Elige que generó eres presiona el número que se indica\")\n",
        "print(\"1-Hombre\")\n",
        "print(\"2- Mujer\")\n",
        "genero = int(input(\"Elige el número según tu generó\"))\n",
        "if genero == 1:\n",
        "    print(\"Eres hombre\")\n",
        "else:\n",
        "    print(\"Eres mujer\")"
      ],
      "metadata": {
        "id": "TRPb4e6WTs6s",
        "colab": {
          "base_uri": "https://localhost:8080/",
          "height": 0
        },
        "outputId": "a384311d-954a-4728-d1a6-ca4d9ec50ff4"
      },
      "execution_count": 10,
      "outputs": [
        {
          "output_type": "stream",
          "name": "stdout",
          "text": [
            "Elige que generó eres presiona el número que se indica\n",
            "1-Hombre\n",
            "2- Mujer\n",
            "Elige el número según tu generó1\n",
            "Eres hombre\n"
          ]
        }
      ]
    },
    {
      "cell_type": "markdown",
      "source": [
        "8.- Programa en Python que lea un número entero, y desplegar si el número es “PAR” o “IMPAR” NOTA: EJERCICIOS PARA SER RESUELTOS USANDO EXCLUSIVAMENTE CONDICIONES COMPUESTO"
      ],
      "metadata": {
        "id": "kEVOUFaIUYfE"
      }
    },
    {
      "cell_type": "code",
      "source": [
        "num = int(input(\"Elige un número \"))\n",
        "if num%2 == 0:\n",
        "    print(\"El número es par\")\n",
        "else:\n",
        "    print(\"El número es impar\")"
      ],
      "metadata": {
        "id": "NyaY7E53Uat-",
        "colab": {
          "base_uri": "https://localhost:8080/",
          "height": 0
        },
        "outputId": "46d91d59-9e39-495a-b46a-583199679165"
      },
      "execution_count": 12,
      "outputs": [
        {
          "output_type": "stream",
          "name": "stdout",
          "text": [
            "Elige un número 9\n",
            "El número es impar\n"
          ]
        }
      ]
    }
  ]
}