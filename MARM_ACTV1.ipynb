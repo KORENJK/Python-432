{
  "nbformat": 4,
  "nbformat_minor": 0,
  "metadata": {
    "colab": {
      "provenance": [],
      "authorship_tag": "ABX9TyNMASMUYnUj7EBZtG/i/u9o",
      "include_colab_link": true
    },
    "kernelspec": {
      "name": "python3",
      "display_name": "Python 3"
    },
    "language_info": {
      "name": "python"
    }
  },
  "cells": [
    {
      "cell_type": "markdown",
      "metadata": {
        "id": "view-in-github",
        "colab_type": "text"
      },
      "source": [
        "<a href=\"https://colab.research.google.com/github/MiguelARmz/Python-432/blob/main/MARM_ACTV1.ipynb\" target=\"_parent\"><img src=\"https://colab.research.google.com/assets/colab-badge.svg\" alt=\"Open In Colab\"/></a>"
      ]
    },
    {
      "cell_type": "markdown",
      "source": [],
      "metadata": {
        "id": "bzwa9Fn4kbJs"
      }
    },
    {
      "cell_type": "markdown",
      "source": [
        "#Actividad 1\n",
        "\n",
        "Nombre: Miguel Angel Ramirez Monjaraz\n",
        "\n",
        "Grupo: 432-computacion\n",
        "\n",
        "Fecha:12/08/2023"
      ],
      "metadata": {
        "id": "3fpuDSZGagml"
      }
    },
    {
      "cell_type": "markdown",
      "source": [
        "1.- Programa en Python Mostrar un mensaje que diga “HOLA MUNDO” en un solo renglón usando 2 print"
      ],
      "metadata": {
        "id": "GjAInW6UfvYF"
      }
    },
    {
      "cell_type": "code",
      "source": [
        "print(\"Hola\", end=\"\")\n",
        "print(\" Mundo\")"
      ],
      "metadata": {
        "id": "qt6FwyyOfp26",
        "colab": {
          "base_uri": "https://localhost:8080/"
        },
        "outputId": "c05fcb63-32a2-45e6-98ea-90f3a60ca1dd"
      },
      "execution_count": 1,
      "outputs": [
        {
          "output_type": "stream",
          "name": "stdout",
          "text": [
            "Hola Mundo\n"
          ]
        }
      ]
    },
    {
      "cell_type": "markdown",
      "source": [
        "2.- Programa en Python que lea 2 números, realizar la suma y desplegar la suma de los 2 números"
      ],
      "metadata": {
        "id": "vOfc0jNKf01d"
      }
    },
    {
      "cell_type": "code",
      "source": [
        "print(\"Se va a realizar la suma de dos numeros\")\n",
        "num1 = int(input(\"Dame el numero 1 \"))\n",
        "num2 = int(input(\"Dame el numero 2 \"))\n",
        "suma = num1 + num2\n",
        "print(\"El resultado de la suma es \",suma)"
      ],
      "metadata": {
        "id": "GfhJ366hc1dt",
        "colab": {
          "base_uri": "https://localhost:8080/"
        },
        "outputId": "7d3a7f57-d827-469c-e330-5f834630c0b3"
      },
      "execution_count": 2,
      "outputs": [
        {
          "output_type": "stream",
          "name": "stdout",
          "text": [
            "Se va a realizar la suma de dos numeros\n",
            "Dame el numero 1 5\n",
            "Dame el numero 2 3\n",
            "El resultado de la suma es  8\n"
          ]
        }
      ]
    },
    {
      "cell_type": "code",
      "source": [],
      "metadata": {
        "id": "Zph4oEmnAdAC"
      },
      "execution_count": null,
      "outputs": []
    },
    {
      "cell_type": "markdown",
      "source": [
        "\n",
        "3.- Programa en Python que lea 2 números y realice las 4 operaciones básicas"
      ],
      "metadata": {
        "id": "npXWT_akgJ6P"
      }
    },
    {
      "cell_type": "code",
      "source": [
        "print(\"Se va a realizar las 4 operaciones basicas con 2 numeros, elige: \")\n",
        "num1 = float(input(\"Dame el numero 1 \"))\n",
        "num2 = float(input(\"Dame el numero 2 \"))\n",
        "suma = num1 + num2\n",
        "resta = num1 - num2\n",
        "mult = num1 * num2\n",
        "divi = num1 / num2\n",
        "print(f\"El resultado de la suma es de: {suma}\")\n",
        "print(f\"El resultado de la resta es de: {resta}\")\n",
        "print(f\"El resultado de la multiplicaion es de: {mult}\")\n",
        "print(f\"El resultado de la division es de: {divi}\")"
      ],
      "metadata": {
        "id": "ReMPZc7BdXgw",
        "colab": {
          "base_uri": "https://localhost:8080/"
        },
        "outputId": "cba83b11-94d8-451c-8ccb-f1d26fa7edaa"
      },
      "execution_count": 3,
      "outputs": [
        {
          "output_type": "stream",
          "name": "stdout",
          "text": [
            "Se va a realizar las 4 operaciones basicas con 2 numeros, elige: \n",
            "Dame el numero 1 5\n",
            "Dame el numero 2 8\n",
            "El resultado de la suma es de: 13.0\n",
            "El resultado de la resta es de: -3.0\n",
            "El resultado de la multiplicaion es de: 40.0\n",
            "El resultado de la division es de: 0.625\n"
          ]
        }
      ]
    },
    {
      "cell_type": "markdown",
      "source": [
        "4.- Programa en Python Que sirva para calcular el área de un triángulo\n",
        "\n"
      ],
      "metadata": {
        "id": "idYDG82VgS5y"
      }
    },
    {
      "cell_type": "code",
      "source": [
        "print(\"Se calculara el area de un triangulo\")\n",
        "base = float(input(\"Dame la base del triangulo \"))\n",
        "altura = float(input(\"Dame la altura del triangulo \"))\n",
        "area = (base * altura)/2\n",
        "print(\"El area del triangulo es \", area)\n"
      ],
      "metadata": {
        "id": "pOJ0GZg4beg4",
        "colab": {
          "base_uri": "https://localhost:8080/"
        },
        "outputId": "7d86a60f-1818-4e62-e6e7-55b06d1f5c79"
      },
      "execution_count": 4,
      "outputs": [
        {
          "output_type": "stream",
          "name": "stdout",
          "text": [
            "Se calculara el area de un triangulo\n",
            "Dame la base del triangulo 3\n",
            "Dame la altura del triangulo 6\n",
            "El area del triangulo es  9.0\n"
          ]
        }
      ]
    },
    {
      "cell_type": "markdown",
      "source": [
        "5.- Programa en Python que lea una medida en centímetros y desplegar la misma medida pero convertida en pies y pulgadas"
      ],
      "metadata": {
        "id": "sTV72bZGgpDd"
      }
    },
    {
      "cell_type": "code",
      "source": [
        "pulgada = 0.393701\n",
        "pie = 0.0328084\n",
        "cantidad = float(input(\"Cuantos cm deseas convertir? \"))\n",
        "conversion1 = pulgada * cantidad\n",
        "conversion2 = pie * cantidad\n",
        "print(f\"{cantidad} cm a pulgadas son {conversion1}\" )\n",
        "print(f\"{cantidad} cm a pulgadas son {conversion2}\" )\n",
        "\n",
        "\n"
      ],
      "metadata": {
        "id": "1ajv9e1Ugs8g",
        "colab": {
          "base_uri": "https://localhost:8080/"
        },
        "outputId": "91a15aff-636f-47c4-97d4-d12bc06ff560"
      },
      "execution_count": 5,
      "outputs": [
        {
          "output_type": "stream",
          "name": "stdout",
          "text": [
            "Cuantos cm deseas convertir? 2.54\n",
            "2.54 cm a pulgadas son 1.00000054\n",
            "2.54 cm a pulgadas son 0.08333333600000001\n"
          ]
        }
      ]
    },
    {
      "cell_type": "markdown",
      "source": [
        "6.- Programa en Python que lea una temperatura en grados centígrados y desplegarla en Grados Fahrenheit y grados kelvin"
      ],
      "metadata": {
        "id": "45sOkgxtaNY9"
      }
    },
    {
      "cell_type": "code",
      "source": [
        "centigrados= float(input(\"Cuantos grados centigrados deseas convertir ? \"))\n",
        "kelvin = centigrados + 273.15\n",
        "farenheit =( centigrados * 9/5) + 32\n",
        "\n",
        "print(f\"{centigrados} °C a Farenheit son {farenheit} °F\")\n",
        "print(f\"{centigrados} °C a Kelvin son {kelvin}  °K\" )"
      ],
      "metadata": {
        "id": "bGbK1IpOg7Qr",
        "colab": {
          "base_uri": "https://localhost:8080/"
        },
        "outputId": "7ba97e38-acd4-49d0-c549-18bdc9948d17"
      },
      "execution_count": 6,
      "outputs": [
        {
          "output_type": "stream",
          "name": "stdout",
          "text": [
            "Cuantos grados centigrados deseas convertir ? 0\n",
            "0.0 °C a Farenheit son 32.0 °F\n",
            "0.0 °C a Kelvin son 273.15  °K\n"
          ]
        }
      ]
    },
    {
      "cell_type": "markdown",
      "source": [
        "7.- Programa en Python que lea 4 calificaciones de un alumno, desplegar el promedio del alumno"
      ],
      "metadata": {
        "id": "owKNxCgMgukM"
      }
    },
    {
      "cell_type": "code",
      "source": [
        "materias = 4\n",
        "i=1\n",
        "suma=0\n",
        "while(i<=materias):\n",
        "  print(\"Cual es la calificacion numero \",i)\n",
        "  calif=float(input())\n",
        "  suma=suma+calif\n",
        "  i+=1\n",
        "promedio=suma/materias\n",
        "print(\"El promedio del alumno es de \",promedio)"
      ],
      "metadata": {
        "colab": {
          "base_uri": "https://localhost:8080/"
        },
        "id": "uVxquWmqiwSt",
        "outputId": "f7207cfc-2f7f-4c4a-fc05-b42cd6aa26c4"
      },
      "execution_count": 7,
      "outputs": [
        {
          "output_type": "stream",
          "name": "stdout",
          "text": [
            "Cual es la calificacion numero  1\n",
            "9\n",
            "Cual es la calificacion numero  2\n",
            "9\n",
            "Cual es la calificacion numero  3\n",
            "9\n",
            "Cual es la calificacion numero  4\n",
            "10\n",
            "El promedio del alumno es de  9.25\n"
          ]
        }
      ]
    },
    {
      "cell_type": "markdown",
      "source": [],
      "metadata": {
        "id": "bDBDvnh6kYcC"
      }
    }
  ]
}