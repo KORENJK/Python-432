{
  "nbformat": 4,
  "nbformat_minor": 0,
  "metadata": {
    "colab": {
      "provenance": [],
      "authorship_tag": "ABX9TyNZGL9fHbeDJ48VmgVJee3p",
      "include_colab_link": true
    },
    "kernelspec": {
      "name": "python3",
      "display_name": "Python 3"
    },
    "language_info": {
      "name": "python"
    }
  },
  "cells": [
    {
      "cell_type": "markdown",
      "metadata": {
        "id": "view-in-github",
        "colab_type": "text"
      },
      "source": [
        "<a href=\"https://colab.research.google.com/github/MiguelARmz/Python-432/blob/main/Untitled0.ipynb\" target=\"_parent\"><img src=\"https://colab.research.google.com/assets/colab-badge.svg\" alt=\"Open In Colab\"/></a>"
      ]
    },
    {
      "cell_type": "markdown",
      "source": [],
      "metadata": {
        "id": "bzwa9Fn4kbJs"
      }
    },
    {
      "cell_type": "markdown",
      "source": [
        "#Actividad 1\n",
        "\n",
        "Nombre: Miguel Angel Ramirez Monjaraz\n",
        "\n",
        "Grupo: 432-computacion\n",
        "\n",
        "Fecha:12/08/2023"
      ],
      "metadata": {
        "id": "3fpuDSZGagml"
      }
    },
    {
      "cell_type": "markdown",
      "source": [
        "1.- Programa en Python Mostrar un mensaje que diga “HOLA MUNDO” en un solo renglón usando 2 print"
      ],
      "metadata": {
        "id": "GjAInW6UfvYF"
      }
    },
    {
      "cell_type": "code",
      "source": [
        "print(\"Hola\", end=\"\")\n",
        "print(\" Mundo\")"
      ],
      "metadata": {
        "id": "qt6FwyyOfp26",
        "colab": {
          "base_uri": "https://localhost:8080/"
        },
        "outputId": "3b79eb57-f2eb-4e7c-c5de-694d674b92cf"
      },
      "execution_count": null,
      "outputs": [
        {
          "output_type": "stream",
          "name": "stdout",
          "text": [
            "Hola Mundo\n"
          ]
        }
      ]
    },
    {
      "cell_type": "markdown",
      "source": [
        "2.- Programa en Python que lea 2 números, realizar la suma y desplegar la suma de los 2 números"
      ],
      "metadata": {
        "id": "vOfc0jNKf01d"
      }
    },
    {
      "cell_type": "code",
      "source": [
        "print(\"Se va a realizar la suma de dos numeros\")\n",
        "num1 = int(input(\"Dame el numero 1 \"))\n",
        "num2 = int(input(\"Dame el numero 2 \"))\n",
        "suma = num1 + num2\n",
        "print(\"El resultado de la suma es \",suma)"
      ],
      "metadata": {
        "id": "GfhJ366hc1dt"
      },
      "execution_count": null,
      "outputs": []
    },
    {
      "cell_type": "code",
      "source": [],
      "metadata": {
        "id": "Zph4oEmnAdAC"
      },
      "execution_count": null,
      "outputs": []
    },
    {
      "cell_type": "markdown",
      "source": [
        "\n",
        "3.- Programa en Python que lea 2 números y realice las 4 operaciones básicas"
      ],
      "metadata": {
        "id": "npXWT_akgJ6P"
      }
    },
    {
      "cell_type": "code",
      "source": [
        "print(\"Se va a realizar las 4 operaciones basicas con 2 numeros, elige: \")\n",
        "num1 = float(input(\"Dame el numero 1 \"))\n",
        "num2 = float(input(\"Dame el numero 2 \"))\n",
        "suma = num1 + num2\n",
        "resta = num1 - num2\n",
        "mult = num1 * num2\n",
        "divi = num1 / num2\n",
        "print(\"\\n\",suma,\"\\n\",resta,\"\\n\",mult,\"\\n\",divi)"
      ],
      "metadata": {
        "id": "ReMPZc7BdXgw"
      },
      "execution_count": null,
      "outputs": []
    },
    {
      "cell_type": "markdown",
      "source": [
        "4.- Programa en Python Que sirva para calcular el área de un triángulo\n",
        "\n"
      ],
      "metadata": {
        "id": "idYDG82VgS5y"
      }
    },
    {
      "cell_type": "code",
      "source": [
        "print(\"Se calculara el area de un triangulo\")\n",
        "base = float(input(\"Dame la base del triangulo \"))\n",
        "altura = float(input(\"Dame la altura del triangulo \"))\n",
        "area = (base * altura)/2\n",
        "print(\"El area del triangulo es \", area)\n"
      ],
      "metadata": {
        "id": "pOJ0GZg4beg4"
      },
      "execution_count": null,
      "outputs": []
    },
    {
      "cell_type": "markdown",
      "source": [
        "5.- Programa en Python que lea una medida en centímetros y desplegar la misma medida pero convertida en pies y pulgadas"
      ],
      "metadata": {
        "id": "sTV72bZGgpDd"
      }
    },
    {
      "cell_type": "code",
      "source": [
        "pulgada = 0.393701\n",
        "pie = 0.0328084\n",
        "cantidad = float(input(\"Cuantos cm deseas convertir? \"))\n",
        "conversion1 = pulgada * cantidad\n",
        "conversion2 = pie * cantidad\n",
        "print(\"\",cantidad,\"cm a pu\n",
        "lgadas son \",conversion1 )\n",
        "print(\"\",cantidad,\"cm a pulgadas son \",conversion2 )\n"
      ],
      "metadata": {
        "id": "1ajv9e1Ugs8g"
      },
      "execution_count": null,
      "outputs": []
    },
    {
      "cell_type": "markdown",
      "source": [
        "Conversion - Temperatura"
      ],
      "metadata": {
        "id": "owKNxCgMgukM"
      }
    },
    {
      "cell_type": "code",
      "source": [
        "centigrados= float(input(\"Cuantos grados centigrados deseas convertir ? \"))\n",
        "kelvin = centigrados + 273.15\n",
        "farenheit =( centigrados * 9/5) + 32\n",
        "\n",
        "print(\"\",centigrados,\"°C a Farenheit son \", farenheit, \"°F\")\n",
        "print(\"\",centigrados,\"°C a Kelvin son \", kelvin, \" °K\" )"
      ],
      "metadata": {
        "id": "bGbK1IpOg7Qr"
      },
      "execution_count": null,
      "outputs": []
    },
    {
      "cell_type": "markdown",
      "source": [
        "6.- Programa en Python que lea una temperatura en grados centígrados y desplegarla en Grados Fahrenheit y grados kelvin"
      ],
      "metadata": {
        "id": "45sOkgxtaNY9"
      }
    },
    {
      "cell_type": "code",
      "source": [
        "materias = 4\n",
        "i=1\n",
        "suma=0\n",
        "while(i<=materias):\n",
        "  print(\"Cual es la calificacion numero \",i)\n",
        "  calif=float(input())\n",
        "  suma=suma+calif\n",
        "  i+=1\n",
        "promedio=suma/materias\n",
        "print(\"El promedio del alumno es de \",promedio)"
      ],
      "metadata": {
        "colab": {
          "base_uri": "https://localhost:8080/"
        },
        "id": "uVxquWmqiwSt",
        "outputId": "c87b8022-b565-423b-8826-147d6c4baa7e"
      },
      "execution_count": null,
      "outputs": [
        {
          "output_type": "stream",
          "name": "stdout",
          "text": [
            "Cual es la calificacion numero  1\n",
            "6\n",
            "Cual es la calificacion numero  2\n",
            "8\n",
            "Cual es la calificacion numero  3\n",
            "9\n",
            "Cual es la calificacion numero  4\n",
            "10\n",
            "El promedio del alumno es de  8.25\n"
          ]
        }
      ]
    },
    {
      "cell_type": "markdown",
      "source": [],
      "metadata": {
        "id": "bDBDvnh6kYcC"
      }
    }
  ]
}